{
 "cells": [
  {
   "cell_type": "code",
   "execution_count": 217,
   "metadata": {},
   "outputs": [
    {
     "name": "stdout",
     "output_type": "stream",
     "text": [
      "BliYyGdRD4Oi4MIqAzZxaw5Z4Q8D\n"
     ]
    }
   ],
   "source": [
    "import requests\n",
    "import json\n",
    "import numpy as np\n",
    "from oauthlib.oauth2 import BackendApplicationClient\n",
    "from requests_oauthlib import OAuth2Session\n",
    "TOKEN_URL = 'https://consent.swisscom.com/o/oauth2/token'\n",
    "client_id = 'vjM3xDUK2Con9zy4D8d8SqZjS3jYEQ28'\n",
    "client_secret = 'rsConE5RAlKqD6QB'\n",
    "# See https://requests-oauthlib.readthedocs.io/en/latest/oauth2_workflow.html#backend-application-flow.\n",
    "client = BackendApplicationClient(client_id=client_id)\n",
    "oauth = OAuth2Session(client=client)\n",
    "# Fetch an access token.\n",
    "oauth.fetch_token(token_url=TOKEN_URL, client_id=client_id, client_secret=client_secret)\n",
    "print(oauth.access_token)"
   ]
  },
  {
   "cell_type": "markdown",
   "metadata": {},
   "source": [
    "lausanne 5586 , zurich 2661, geneva 6621"
   ]
  },
  {
   "cell_type": "code",
   "execution_count": 218,
   "metadata": {},
   "outputs": [],
   "source": [
    "def get_tiles (municipality):\n",
    "    # Use the access token to query an endpoint.\n",
    "    resp = oauth.get(\n",
    "        'https://api.swisscom.com/layer/heatmaps/demo/grids/municipalities/' + municipality,\n",
    "        headers={'scs-version': '2'})\n",
    "    #print(resp.json())\n",
    "    res_json = resp.json()\n",
    "    val = next(iter(res_json.values()))\n",
    "    result = [sub['tileId']for sub in val]\n",
    "    return result\n",
    "#with open('heatmap.json' , 'w') as res:\n",
    " #   json.dump(result, res)"
   ]
  },
  {
   "cell_type": "code",
   "execution_count": 219,
   "metadata": {},
   "outputs": [],
   "source": [
    "lausanne_tiles = get_tiles('5586')\n",
    "zurich_tiles = get_tiles('261')\n",
    "geneva_tiles = get_tiles('6621')"
   ]
  },
  {
   "cell_type": "code",
   "execution_count": 222,
   "metadata": {},
   "outputs": [],
   "source": [
    "lausanneTilesSplit = [lausanne_tiles[i:i + 100] for i in range(0, len(lausanne_tiles), 100) ]\n",
    "zurichTilesSplit = [zurich_tiles[i:i + 100] for i in range(0, len(zurich_tiles), 100) ]\n",
    "genevaTilesSplit = [geneva_tiles[i:i + 100] for i in range(0, len(geneva_tiles), 100) ]"
   ]
  },
  {
   "cell_type": "code",
   "execution_count": 194,
   "metadata": {},
   "outputs": [
    {
     "data": {
      "text/plain": [
       "[4540, 9526, 1965]"
      ]
     },
     "execution_count": 194,
     "metadata": {},
     "output_type": "execute_result"
    }
   ],
   "source": [
    "[len(lausanne_tiles), len(zurich_tiles), len(geneva_tiles)]"
   ]
  },
  {
   "cell_type": "code",
   "execution_count": 195,
   "metadata": {},
   "outputs": [
    {
     "data": {
      "text/plain": [
       "[454, 96, 20]"
      ]
     },
     "execution_count": 195,
     "metadata": {},
     "output_type": "execute_result"
    }
   ],
   "source": [
    "[len(lausanneTilesSplit), len(zurichTilesSplit), len(genevaTilesSplit)]"
   ]
  },
  {
   "cell_type": "markdown",
   "metadata": {},
   "source": [
    "Date List"
   ]
  },
  {
   "cell_type": "code",
   "execution_count": 170,
   "metadata": {},
   "outputs": [],
   "source": [
    "dates = ['2019-03-25', '2019-03-26', '2019-03-27', '2019-03-28', '2019-03-29', '2019-03-30','2019-03-31', \n",
    "         '2020-03-23', '2020-03-24', '2020-03-25', '2020-03-26', '2020-03-27', '2020-03-28', '2020-03-29']\n",
    "hours = ['00:00', '01:00', '02:00', '03:00', '04:00', '05:00', '06:00', '07:00', '08:00', '09:00', '10:00', \n",
    "         '11:00', '12:00', '13:00', '14:00', '15:00', '16:00', '17:00', '18:00', '19:00', '20:00', '21:00',\n",
    "         '22:00', '23:00', '24:00']"
   ]
  },
  {
   "cell_type": "code",
   "execution_count": 271,
   "metadata": {},
   "outputs": [],
   "source": [
    "'''\n",
    "Function to get the daily data for density and demographics\n",
    "'''\n",
    "def getDaily (info, tiles):\n",
    "    TOKEN_URL = 'https://consent.swisscom.com/o/oauth2/token'\n",
    "    client_id = 'vjM3xDUK2Con9zy4D8d8SqZjS3jYEQ28'\n",
    "    client_secret = 'rsConE5RAlKqD6QB'\n",
    "    client = BackendApplicationClient(client_id=client_id)\n",
    "    oauth = OAuth2Session(client=client)\n",
    "    oauth.fetch_token(token_url=TOKEN_URL, client_id=client_id, client_secret=client_secret)\n",
    "    for date in dates:\n",
    "        for tile in tiles:\n",
    "            print('https://api.swisscom.com/layer/heatmaps/demo/heatmaps/dwell-' \n",
    "                  + info + '/daily/' + date +'?tiles='\n",
    "                + str(','.join(str(i) for i in tile)))\n",
    "            resp = oauth.get(\n",
    "                'https://api.swicsscom.com/layer/heatmaps/demo/heatmaps/dwell-demographics/daily/' + date +'?tiles='\n",
    "                + str(','.join(str(i) for i in tile)), headers={'scs-version': '2'})\n",
    "    result = resp.json()\n",
    "    return result\n",
    "   \n",
    "'''\n",
    "Function to get the hourly data for density and demographics\n",
    "'''\n",
    "def getHourly (info, tiles):\n",
    "    TOKEN_URL = 'https://consent.swisscom.com/o/oauth2/token'\n",
    "    client_id = 'vjM3xDUK2Con9zy4D8d8SqZjS3jYEQ28'\n",
    "    client_secret = 'rsConE5RAlKqD6QB'\n",
    "    client = BackendApplicationClient(client_id=client_id)\n",
    "    oauth = OAuth2Session(client=client)\n",
    "    oauth.fetch_token(token_url=TOKEN_URL, client_id=client_id, client_secret=client_secret)\n",
    "    for date in dates:\n",
    "        for hour in hours:\n",
    "            for tile in tiles:\n",
    "                resp = oauth.get(\n",
    "                    'https://api.swicsscom.com/layer/heatmaps/demo/heatmaps/dwell-' + info +'/daily/' +  date + 'T' + hour + '?tiles=' + str(','.join(str(i) for i in tile)), \n",
    "                    headers={'scs-version': '2'})\n",
    "    result = resp.json()\n",
    "    return result"
   ]
  },
  {
   "cell_type": "code",
   "execution_count": 285,
   "metadata": {
    "scrolled": false
   },
   "outputs": [],
   "source": [
    "# run the function for density and demographics\n",
    "lausanneDensityDaily = getDaily('density', lausanneTilesSplit)\n",
    "zurichDensityDaily = getDaily('density', zurichTilesSplit)\n",
    "genevaDensityDaily = getDaily('density', genevaTilesSplit)\n",
    "\n",
    "lausanneDemographicDaily = getDaily('demographics', lausanneTilesSplit)\n",
    "zurichDemographicDaily = getDaily('demographics', zurichTilesSplit)\n",
    "genevaDemographicDaily = getDaily('demographics', genevaTilesSplit)\n",
    "\n",
    "lausanneDensityHourly = getHourly('density', lausanneTilesSplit)\n",
    "zurichDensityHourly = getHourly('density', zurichTilesSplit)\n",
    "genevaDensityHourly = getHourly('density', genevaTilesSplit)\n",
    "\n",
    "lausanneDemographicHourly = getHourly('demographics', lausanneTilesSplit)\n",
    "zurichDemographicHourly = getHourly('demographics', zurichTilesSplit)\n",
    "genevaDemographicHourly = getHourly('demographics', genevaTilesSplit)"
   ]
  }
 ],
 "metadata": {
  "kernelspec": {
   "display_name": "Python 3",
   "language": "python",
   "name": "python3"
  },
  "language_info": {
   "codemirror_mode": {
    "name": "ipython",
    "version": 3
   },
   "file_extension": ".py",
   "mimetype": "text/x-python",
   "name": "python",
   "nbconvert_exporter": "python",
   "pygments_lexer": "ipython3",
   "version": "3.7.3"
  }
 },
 "nbformat": 4,
 "nbformat_minor": 2
}
