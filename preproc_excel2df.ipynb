{
 "cells": [
  {
   "cell_type": "code",
   "execution_count": 22,
   "metadata": {},
   "outputs": [],
   "source": [
    "import pandas as pd\n",
    "import os\n",
    "#os.chdir('/Users/anniezhi/Desktop/HackZurich/Swisscom/')"
   ]
  },
  {
   "cell_type": "code",
   "execution_count": 23,
   "metadata": {},
   "outputs": [],
   "source": [
    "for filename in os.listdir('/Users/anniezhi/Desktop/HackZurich/Swisscom/data'):\n",
    "    if filename != '.DS_Store':\n",
    "        dfname = \"\"\n",
    "        if \"13285\" in filename:\n",
    "            dfname = dfname + 'bern' + '_'\n",
    "        elif \"13297\" in filename:\n",
    "            dfname = dfname + 'geneva' + '_'\n",
    "        elif \"13294\" in filename:\n",
    "            dfname = dfname + 'lausanne' + '_'\n",
    "        elif \"13300\" in filename:\n",
    "            dfname = dfname + 'zurich' + '_'\n",
    "        if \"2019\" in filename:\n",
    "            dfname = dfname + '2019' + '_'\n",
    "        elif \"2020\" in filename:\n",
    "            dfname = dfname + '2020' + '_'\n",
    "            \n",
    "        vars()[dfname+'tripCount_daily'] = pd.read_excel(open('data/'+filename,'rb'),sheet_name='Trip Count (Daily)')\n",
    "        vars()[dfname+'tripCount_daily'].to_pickle(dfname+'tripCount_daily'+'.pkl')\n",
    "        \n",
    "        vars()[dfname+'tripCount_hourly'] = pd.read_excel(open('data/'+filename,'rb'),sheet_name='Trip Count (Hourly)')\n",
    "        vars()[dfname+'tripCount_hourly'].to_pickle(dfname+'tripCount_hourly'+'.pkl')\n",
    "        \n",
    "        vars()[dfname+'demographics'] = pd.read_excel(open('data/'+filename,'rb'),sheet_name='Demographics')\n",
    "        vars()[dfname+'demographics'].to_pickle(dfname+'demographics'+'.pkl')\n",
    "        \n",
    "        vars()[dfname+'incomingFrom_origin'] = pd.read_excel(open('data/'+filename,'rb'),sheet_name='Origins (Incoming from...)')\n",
    "        vars()[dfname+'incomingFrom_origin'].to_pickle(dfname+'incomingFrom_origin'+'.pkl')\n",
    "        \n",
    "        vars()[dfname+'fromHereTo_dest'] = pd.read_excel(open('data/'+filename,'rb'),sheet_name='Destinations (From here to...)')\n",
    "        vars()[dfname+'fromHereTo_dest'].to_pickle(dfname+'fromHereTo_dest'+'.pkl')\n",
    "        \n",
    "        vars()[dfname+'passingThru_origin'] = pd.read_excel(open('data/'+filename,'rb'),sheet_name='Origins (Passing through)')\n",
    "        vars()[dfname+'passingThru_origin'].to_pickle(dfname+'passingThru_origin'+'.pkl')\n",
    "        \n",
    "        vars()[dfname+'passingThru_dest'] = pd.read_excel(open('data/'+filename,'rb'),sheet_name='Destinations (Passing through)')\n",
    "        vars()[dfname+'passingThru_dest'].to_pickle(dfname+'passingThru_dest'+'.pkl')\n",
    "        \n",
    "        vars()[dfname+'passingThru_routes'] = pd.read_excel(open('data/'+filename,'rb'),sheet_name='Routes (Passing through)')\n",
    "        vars()[dfname+'passingThru_routes'].to_pickle(dfname+'passingThru_routes'+'.pkl')\n",
    "        \n",
    "        vars()[dfname+'dwellTimes'] = pd.read_excel(open('data/'+filename,'rb'),sheet_name='Dwell times')\n",
    "        vars()[dfname+'dwellTimes'].to_pickle(dfname+'dwellTimes'+'.pkl')"
   ]
  }
 ],
 "metadata": {
  "kernelspec": {
   "display_name": "Python 3",
   "language": "python",
   "name": "python3"
  },
  "language_info": {
   "codemirror_mode": {
    "name": "ipython",
    "version": 3
   },
   "file_extension": ".py",
   "mimetype": "text/x-python",
   "name": "python",
   "nbconvert_exporter": "python",
   "pygments_lexer": "ipython3",
   "version": "3.8.0"
  }
 },
 "nbformat": 4,
 "nbformat_minor": 4
}
